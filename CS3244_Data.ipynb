{
 "cells": [
  {
   "cell_type": "markdown",
   "id": "57ab07fd",
   "metadata": {},
   "source": [
    "# **Project Introduction**"
   ]
  },
  {
   "cell_type": "markdown",
   "id": "0b3191f1",
   "metadata": {},
   "source": [
    "## Dataset description\n",
    "\n",
    "Estimation of HDB Resale Flats Pricing in Singapore using Machine Learning\n",
    "The dataset is focused on the HDB resale transaction prices in Singapore. Housing Development Board (HDB) has published housing data containing 10 distinct types of metrics such as month registered for resale, town, flat types, etc. The data is published by the Singapore government and hence holds a high degree of reliability and accuracy.\n",
    "\n",
    "## Motivation/Problem Statement\n",
    "\n",
    "\n",
    "This project is crucial in addressing the rising demand for housing in the face of a growing population and escalating costs in land-scarce Singapore. With concerns about affordability on the rise, the project focuses on helping individuals estimate resale flat prices, enabling them to strategically plan and explore housing options that fit their financial constraints and specific criteria. We will be focusing on leveraging machine learning techniques to predict resale flat prices.\n",
    "\n",
    "\n",
    "## Key Questions:\n",
    "\n",
    "1. What are the primary factors affecting the price of resale flats in Singapore?\n",
    "2. Which features should we use for our predictive model?\n",
    "3. What are some limitations/biases that might occur in the predictive model?\n",
    "4. Will the model be able to capture temporal trends in the market?\n",
    "5. How will the model be affected by outliers that indicate high levels of risk?\n",
    "\n",
    "\n",
    "By addressing these key questions, this project aims to provide a valuable tool for individuals in Singapore to better plan and navigate the complex housing market, ultimately helping them make more informed decisions when buying or selling resale flats."
   ]
  },
  {
   "cell_type": "markdown",
   "id": "82c103e6",
   "metadata": {},
   "source": [
    "# **Getting Started**\n",
    "\n",
    "Clone the git repository into your local directory\n",
    "\n",
    "\n",
    "\n"
   ]
  },
  {
   "cell_type": "markdown",
   "id": "09a7de8d",
   "metadata": {},
   "source": [
    "git clone https://github.com/Cheenaswee/CS3244-Machines-That-Learn.git"
   ]
  },
  {
   "cell_type": "markdown",
   "id": "a2df3704",
   "metadata": {},
   "source": [
    "# **Data Extraction, Collection & Preparation**"
   ]
  },
  {
   "cell_type": "markdown",
   "id": "d7747073",
   "metadata": {},
   "source": [
    "## Unzipping the Datasets.zip file\n",
    "\n",
    "Running the code will extract the resale_data.csv into the Dataset folder\n"
   ]
  },
  {
   "cell_type": "code",
   "execution_count": 49,
   "id": "bf2dbb6b",
   "metadata": {},
   "outputs": [
    {
     "name": "stdout",
     "output_type": "stream",
     "text": [
      "Extraction completed successfully.\n"
     ]
    }
   ],
   "source": [
    "import os\n",
    "import zipfile\n",
    "\n",
    "zip_directory = r\"..\\CS3244-Machines-That-Learn\\Dataset\"\n",
    "zip_file_path = os.path.join(zip_directory, \"resale_flat.zip\")\n",
    "extract_to_directory = r\"..\\CS3244-Machines-That-Learn\\Dataset\"\n",
    "\n",
    "# Check if the zip file exists\n",
    "if not os.path.exists(zip_file_path):\n",
    "    print(\"Error: Zip file does not exist\")\n",
    "    exit()\n",
    "\n",
    "# Check if the extraction directory exists\n",
    "if not os.path.exists(extract_to_directory):\n",
    "    os.makedirs(extract_to_directory)\n",
    "    print(f\"Created extraction directory: {extract_to_directory}\")\n",
    "\n",
    "# Open the zip file\n",
    "with zipfile.ZipFile(zip_file_path, 'r') as zip_ref:\n",
    "    # Extract all the contents of the zip file to the specified directory\n",
    "    zip_ref.extractall(extract_to_directory)\n",
    "    print(\"Extraction completed successfully.\")\n",
    "\n"
   ]
  },
  {
   "cell_type": "markdown",
   "id": "d66ab258",
   "metadata": {},
   "source": [
    "# **Import Basic Libraries**"
   ]
  },
  {
   "cell_type": "code",
   "execution_count": 27,
   "id": "6cf3156c",
   "metadata": {},
   "outputs": [],
   "source": [
    "import pandas as pd\n",
    "from sklearn.model_selection import train_test_split\n",
    "from sklearn.preprocessing import LabelEncoder\n",
    "from sklearn.ensemble import RandomForestRegressor\n",
    "from sklearn.metrics import mean_squared_error, r2_score\n",
    "import seaborn as sns\n",
    "import matplotlib.pyplot as plt\n",
    "import numpy as np\n",
    "import matplotlib.pyplot as plt\n",
    "import math\n",
    "import csv\n",
    "import requests\n",
    "import re"
   ]
  },
  {
   "cell_type": "markdown",
   "id": "b8c92dae",
   "metadata": {},
   "source": [
    "## Reading in Resale Flat Prices Data\n",
    "\n",
    "Link to Data: https://www.kaggle.com/datasets/mikelll/singapore-housing-price-20172022"
   ]
  },
  {
   "cell_type": "code",
   "execution_count": 52,
   "id": "078c3cbc",
   "metadata": {},
   "outputs": [],
   "source": [
    "dataset = pd.read_csv(r\"..\\CS3244-Machines-That-Learn\\Dataset\\resale_flat.csv\")\n"
   ]
  },
  {
   "cell_type": "code",
   "execution_count": 53,
   "id": "8dada118",
   "metadata": {},
   "outputs": [
    {
     "name": "stdout",
     "output_type": "stream",
     "text": [
      "          month        town  flat_type block        street_name storey_range  \\\n",
      "0       2017-01  ANG MO KIO     2 ROOM   406  ANG MO KIO AVE 10     10 TO 12   \n",
      "1       2017-01  ANG MO KIO     3 ROOM   108   ANG MO KIO AVE 4     01 TO 03   \n",
      "2       2017-01  ANG MO KIO     3 ROOM   602   ANG MO KIO AVE 5     01 TO 03   \n",
      "3       2017-01  ANG MO KIO     3 ROOM   465  ANG MO KIO AVE 10     04 TO 06   \n",
      "4       2017-01  ANG MO KIO     3 ROOM   601   ANG MO KIO AVE 5     01 TO 03   \n",
      "...         ...         ...        ...   ...                ...          ...   \n",
      "134163  2022-08      YISHUN     5 ROOM   850       YISHUN ST 81     01 TO 03   \n",
      "134164  2022-08      YISHUN  EXECUTIVE   325        YISHUN CTRL     07 TO 09   \n",
      "134165  2022-08      YISHUN  EXECUTIVE   355     YISHUN RING RD     07 TO 09   \n",
      "134166  2022-08      YISHUN  EXECUTIVE   355     YISHUN RING RD     07 TO 09   \n",
      "134167  2022-08      YISHUN  EXECUTIVE   643       YISHUN ST 61     10 TO 12   \n",
      "\n",
      "        floor_area_sqm      flat_model  lease_commence_date  \\\n",
      "0                 44.0        Improved                 1979   \n",
      "1                 67.0  New Generation                 1978   \n",
      "2                 67.0  New Generation                 1980   \n",
      "3                 68.0  New Generation                 1980   \n",
      "4                 67.0  New Generation                 1980   \n",
      "...                ...             ...                  ...   \n",
      "134163           122.0        Improved                 1988   \n",
      "134164           146.0      Maisonette                 1988   \n",
      "134165           150.0      Maisonette                 1988   \n",
      "134166           146.0      Maisonette                 1988   \n",
      "134167           146.0      Maisonette                 1987   \n",
      "\n",
      "           remaining_lease  resale_price  \n",
      "0       61 years 04 months      232000.0  \n",
      "1       60 years 07 months      250000.0  \n",
      "2       62 years 05 months      262000.0  \n",
      "3        62 years 01 month      265000.0  \n",
      "4       62 years 05 months      265000.0  \n",
      "...                    ...           ...  \n",
      "134163            65 years      570000.0  \n",
      "134164  65 years 04 months      768888.0  \n",
      "134165  65 years 04 months      778000.0  \n",
      "134166  65 years 04 months      838000.0  \n",
      "134167  64 years 02 months      748000.0  \n",
      "\n",
      "[134168 rows x 11 columns]\n"
     ]
    }
   ],
   "source": [
    "print(dataset)"
   ]
  },
  {
   "cell_type": "code",
   "execution_count": null,
   "id": "c746144a",
   "metadata": {},
   "outputs": [],
   "source": []
  }
 ],
 "metadata": {
  "kernelspec": {
   "display_name": "Python 3 (ipykernel)",
   "language": "python",
   "name": "python3"
  },
  "language_info": {
   "codemirror_mode": {
    "name": "ipython",
    "version": 3
   },
   "file_extension": ".py",
   "mimetype": "text/x-python",
   "name": "python",
   "nbconvert_exporter": "python",
   "pygments_lexer": "ipython3",
   "version": "3.10.11"
  }
 },
 "nbformat": 4,
 "nbformat_minor": 5
}
