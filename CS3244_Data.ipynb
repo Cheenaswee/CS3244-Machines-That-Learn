{
 "cells": [
  {
   "cell_type": "markdown",
   "id": "57ab07fd",
   "metadata": {},
   "source": [
    "# **Project Introduction**"
   ]
  },
  {
   "cell_type": "markdown",
   "id": "0b3191f1",
   "metadata": {},
   "source": [
    "## Dataset description\n",
    "\n",
    "Estimation of HDB Resale Flats Pricing in Singapore using Machine Learning\n",
    "The dataset is focused on the HDB resale transaction prices in Singapore. Housing Development Board (HDB) has published housing data containing 10 distinct types of metrics such as month registered for resale, town, flat types, etc. The data is published by the Singapore government and hence holds a high degree of reliability and accuracy.\n",
    "\n",
    "## Motivation/Problem Statement\n",
    "\n",
    "\n",
    "This project is crucial in addressing the rising demand for housing in the face of a growing population and escalating costs in land-scarce Singapore. With concerns about affordability on the rise, the project focuses on helping individuals estimate resale flat prices, enabling them to strategically plan and explore housing options that fit their financial constraints and specific criteria. We will be focusing on leveraging machine learning techniques to predict resale flat prices.\n",
    "\n",
    "\n",
    "## Key Questions:\n",
    "\n",
    "1. What are the primary factors affecting the price of resale flats in Singapore?\n",
    "2. Which features should we use for our predictive model?\n",
    "3. What are some limitations/biases that might occur in the predictive model?\n",
    "4. Will the model be able to capture temporal trends in the market?\n",
    "5. How will the model be affected by outliers that indicate high levels of risk?\n",
    "\n",
    "\n",
    "By addressing these key questions, this project aims to provide a valuable tool for individuals in Singapore to better plan and navigate the complex housing market, ultimately helping them make more informed decisions when buying or selling resale flats."
   ]
  },
  {
   "cell_type": "markdown",
   "id": "d66ab258",
   "metadata": {},
   "source": [
    "# **Import Basic Libraries**"
   ]
  },
  {
   "cell_type": "code",
   "execution_count": 27,
   "id": "6cf3156c",
   "metadata": {},
   "outputs": [],
   "source": [
    "import pandas as pd\n",
    "from sklearn.model_selection import train_test_split\n",
    "from sklearn.preprocessing import LabelEncoder\n",
    "from sklearn.ensemble import RandomForestRegressor\n",
    "from sklearn.metrics import mean_squared_error, r2_score\n",
    "import seaborn as sns\n",
    "import matplotlib.pyplot as plt\n",
    "import numpy as np\n",
    "import matplotlib.pyplot as plt\n",
    "import math\n",
    "import zipfile\n",
    "import csv\n",
    "import requests\n",
    "import re"
   ]
  },
  {
   "cell_type": "markdown",
   "id": "a2df3704",
   "metadata": {},
   "source": [
    "# **Data Extraction, Collection & Preparation**"
   ]
  },
  {
   "cell_type": "markdown",
   "id": "d7747073",
   "metadata": {},
   "source": [
    "## Unzipping the Datasets.zip file"
   ]
  },
  {
   "cell_type": "code",
   "execution_count": null,
   "id": "63e3c761",
   "metadata": {},
   "outputs": [],
   "source": [
    "\n"
   ]
  },
  {
   "cell_type": "code",
   "execution_count": null,
   "id": "4b079728",
   "metadata": {},
   "outputs": [],
   "source": []
  }
 ],
 "metadata": {
  "kernelspec": {
   "display_name": "Python 3 (ipykernel)",
   "language": "python",
   "name": "python3"
  },
  "language_info": {
   "codemirror_mode": {
    "name": "ipython",
    "version": 3
   },
   "file_extension": ".py",
   "mimetype": "text/x-python",
   "name": "python",
   "nbconvert_exporter": "python",
   "pygments_lexer": "ipython3",
   "version": "3.10.11"
  }
 },
 "nbformat": 4,
 "nbformat_minor": 5
}
